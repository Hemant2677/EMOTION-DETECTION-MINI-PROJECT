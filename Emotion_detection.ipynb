{
  "cells": [
    {
      "cell_type": "code",
      "execution_count": 1,
      "metadata": {
        "id": "4hvw5bzkOoRp"
      },
      "outputs": [],
      "source": [
        "from keras.utils import to_categorical\n",
        "from keras.preprocessing.image import load_img\n",
        "from keras.models import Sequential\n",
        "from keras.layers import Dense, Conv2D, Dropout, Flatten, MaxPooling2D\n",
        "import os\n",
        "import pandas as pd\n",
        "import numpy as np"
      ]
    },
    {
      "cell_type": "code",
      "execution_count": 2,
      "metadata": {
        "id": "TJK9droPPBhZ"
      },
      "outputs": [],
      "source": [
        "TRAIN_DIR = r'/content/drive/MyDrive/EMotion detection/train - Copy'\n",
        "TEST_DIR = r'/content/drive/MyDrive/EMotion detection/test - Copy'"
      ]
    },
    {
      "cell_type": "code",
      "execution_count": 3,
      "metadata": {
        "id": "ZDf9kjYTPZyr"
      },
      "outputs": [],
      "source": [
        "def createdataframe(dir):\n",
        "    image_paths = []\n",
        "    labels = []\n",
        "    for label in os.listdir(dir):\n",
        "        for imagename in os.listdir(os.path.join(dir,label)):\n",
        "            image_paths.append(os.path.join(dir,label,imagename))\n",
        "            labels.append(label)\n",
        "        print(label, \"completed\")\n",
        "    return image_paths,labels"
      ]
    },
    {
      "cell_type": "code",
      "execution_count": 4,
      "metadata": {
        "colab": {
          "base_uri": "https://localhost:8080/"
        },
        "id": "hf7aNt3QPdzh",
        "outputId": "538a1559-918b-448d-8dfd-56c67b8f0e32"
      },
      "outputs": [
        {
          "output_type": "stream",
          "name": "stdout",
          "text": [
            "surprise completed\n",
            "neutral completed\n",
            "sad completed\n",
            "happy completed\n",
            "angry completed\n",
            "fear completed\n",
            "disgust completed\n"
          ]
        }
      ],
      "source": [
        "train = pd.DataFrame()\n",
        "if not os.path.exists(TRAIN_DIR):\n",
        "    raise FileNotFoundError(f\"The specified directory '{TRAIN_DIR}' does not exist.\")\n",
        "else:\n",
        "    train['image'], train['label'] = createdataframe(TRAIN_DIR)\n"
      ]
    },
    {
      "cell_type": "code",
      "execution_count": 5,
      "metadata": {
        "colab": {
          "base_uri": "https://localhost:8080/"
        },
        "id": "6xnNfZkCPhlY",
        "outputId": "ddceb138-e38d-4773-f7dc-e8805d2f8479"
      },
      "outputs": [
        {
          "output_type": "stream",
          "name": "stdout",
          "text": [
            "                                                  image     label\n",
            "0     /content/drive/MyDrive/EMotion detection/train...  surprise\n",
            "1     /content/drive/MyDrive/EMotion detection/train...  surprise\n",
            "2     /content/drive/MyDrive/EMotion detection/train...  surprise\n",
            "3     /content/drive/MyDrive/EMotion detection/train...  surprise\n",
            "4     /content/drive/MyDrive/EMotion detection/train...  surprise\n",
            "...                                                 ...       ...\n",
            "2873  /content/drive/MyDrive/EMotion detection/train...   disgust\n",
            "2874  /content/drive/MyDrive/EMotion detection/train...   disgust\n",
            "2875  /content/drive/MyDrive/EMotion detection/train...   disgust\n",
            "2876  /content/drive/MyDrive/EMotion detection/train...   disgust\n",
            "2877  /content/drive/MyDrive/EMotion detection/train...   disgust\n",
            "\n",
            "[2878 rows x 2 columns]\n"
          ]
        }
      ],
      "source": [
        "print(train)"
      ]
    },
    {
      "cell_type": "code",
      "execution_count": 6,
      "metadata": {
        "colab": {
          "base_uri": "https://localhost:8080/"
        },
        "id": "F8BFvtwuPleh",
        "outputId": "ca97c8b4-3d30-4aaf-cc0d-60e444383fc2"
      },
      "outputs": [
        {
          "output_type": "stream",
          "name": "stdout",
          "text": [
            "fear completed\n",
            "disgust completed\n",
            "sad completed\n",
            "angry completed\n",
            "happy completed\n",
            "neutral completed\n",
            "surprise completed\n"
          ]
        }
      ],
      "source": [
        "test = pd.DataFrame()\n",
        "test['image'], test['label'] = createdataframe(TEST_DIR)"
      ]
    },
    {
      "cell_type": "code",
      "execution_count": 7,
      "metadata": {
        "colab": {
          "base_uri": "https://localhost:8080/"
        },
        "id": "0WZKV1F-Pri6",
        "outputId": "8a437769-573f-4c9d-e251-ab9748c3295c"
      },
      "outputs": [
        {
          "output_type": "stream",
          "name": "stdout",
          "text": [
            "                                                  image     label\n",
            "0     /content/drive/MyDrive/EMotion detection/test ...      fear\n",
            "1     /content/drive/MyDrive/EMotion detection/test ...      fear\n",
            "2     /content/drive/MyDrive/EMotion detection/test ...      fear\n",
            "3     /content/drive/MyDrive/EMotion detection/test ...      fear\n",
            "4     /content/drive/MyDrive/EMotion detection/test ...      fear\n",
            "...                                                 ...       ...\n",
            "2506  /content/drive/MyDrive/EMotion detection/test ...  surprise\n",
            "2507  /content/drive/MyDrive/EMotion detection/test ...  surprise\n",
            "2508  /content/drive/MyDrive/EMotion detection/test ...  surprise\n",
            "2509  /content/drive/MyDrive/EMotion detection/test ...  surprise\n",
            "2510  /content/drive/MyDrive/EMotion detection/test ...  surprise\n",
            "\n",
            "[2511 rows x 2 columns]\n",
            "0       /content/drive/MyDrive/EMotion detection/test ...\n",
            "1       /content/drive/MyDrive/EMotion detection/test ...\n",
            "2       /content/drive/MyDrive/EMotion detection/test ...\n",
            "3       /content/drive/MyDrive/EMotion detection/test ...\n",
            "4       /content/drive/MyDrive/EMotion detection/test ...\n",
            "                              ...                        \n",
            "2506    /content/drive/MyDrive/EMotion detection/test ...\n",
            "2507    /content/drive/MyDrive/EMotion detection/test ...\n",
            "2508    /content/drive/MyDrive/EMotion detection/test ...\n",
            "2509    /content/drive/MyDrive/EMotion detection/test ...\n",
            "2510    /content/drive/MyDrive/EMotion detection/test ...\n",
            "Name: image, Length: 2511, dtype: object\n"
          ]
        }
      ],
      "source": [
        "print(test)\n",
        "print(test['image'])"
      ]
    },
    {
      "cell_type": "code",
      "execution_count": 8,
      "metadata": {
        "id": "2TNbFv6fPw1S"
      },
      "outputs": [],
      "source": [
        "from tqdm.notebook import tqdm"
      ]
    },
    {
      "cell_type": "code",
      "execution_count": 9,
      "metadata": {
        "id": "xate5McyP2nB"
      },
      "outputs": [],
      "source": [
        "def extract_features(images):\n",
        "    features = []\n",
        "    for image in tqdm(images):\n",
        "        img = load_img(image,grayscale =  True )\n",
        "        img = np.array(img)\n",
        "        features.append(img)\n",
        "    features = np.array(features)\n",
        "    features = features.reshape(len(features),48,48,1)\n",
        "    return features"
      ]
    },
    {
      "cell_type": "code",
      "execution_count": 10,
      "metadata": {
        "colab": {
          "base_uri": "https://localhost:8080/",
          "height": 104,
          "referenced_widgets": [
            "ec3fa1f1ced341529d541eab89593710",
            "fd9d31d203af4903bece534dc5be0d78",
            "a93a6a5e899a41e59e5b7828a7dc5976",
            "63da2ca2302046ad8b94d6b6bf38789e",
            "69c4ae3a06bf45659cf2e13ef5b02046",
            "2452e3b8658f40a48a8a7da89f8b6746",
            "1c54aa0cd8f042ce8acaa2d722fe067d",
            "7374460d01994ac68e0f3e64ee819c88",
            "405ce5140d354205b26e583e91993238",
            "88d5da173a724bc2a30587f77c401729",
            "2cc9f36765574b9b864b0039ab148e7f"
          ]
        },
        "id": "IIJFfr6aP6Tb",
        "outputId": "427de833-c360-4b94-8879-d784a71daa7b"
      },
      "outputs": [
        {
          "data": {
            "application/vnd.jupyter.widget-view+json": {
              "model_id": "ec3fa1f1ced341529d541eab89593710",
              "version_major": 2,
              "version_minor": 0
            },
            "text/plain": [
              "  0%|          | 0/2878 [00:00<?, ?it/s]"
            ]
          },
          "metadata": {},
          "output_type": "display_data"
        },
        {
          "metadata": {
            "tags": null
          },
          "name": "stderr",
          "output_type": "stream",
          "text": [
            "/usr/local/lib/python3.10/dist-packages/keras/src/utils/image_utils.py:409: UserWarning: grayscale is deprecated. Please use color_mode = \"grayscale\"\n",
            "  warnings.warn(\n"
          ]
        }
      ],
      "source": [
        "train_features = extract_features(train['image'])"
      ]
    },
    {
      "cell_type": "code",
      "execution_count": 11,
      "metadata": {
        "colab": {
          "base_uri": "https://localhost:8080/",
          "height": 49,
          "referenced_widgets": [
            "c993d49759894c9e9332499f5a275152",
            "97e264bbaa564741a0e1897df25beadc",
            "3d6c0a5376924e7c90be4dfc4de35a9c",
            "ead5bdeea0c940b9bdfe1c581029380d",
            "ead59598d4e145799ae95082f7975d54",
            "b10bf8511b9d42858bbd4ca738fc8453",
            "e63c67b65d9a46eb9bbc69c9501b5755",
            "36a6f22bcbd24946bccf026fd27d9c67",
            "5d9597ade8d244e7ac659daa70897415",
            "08379cbfeda04362b858444a9afa4f72",
            "0f1771629385420f9064fb9f501b87b5"
          ]
        },
        "id": "awpe2rkiQHrw",
        "outputId": "18c99cce-e450-44ab-b6eb-20da2c24a3cf"
      },
      "outputs": [
        {
          "data": {
            "application/vnd.jupyter.widget-view+json": {
              "model_id": "c993d49759894c9e9332499f5a275152",
              "version_major": 2,
              "version_minor": 0
            },
            "text/plain": [
              "  0%|          | 0/2511 [00:00<?, ?it/s]"
            ]
          },
          "metadata": {},
          "output_type": "display_data"
        }
      ],
      "source": [
        "test_features = extract_features(test['image'])"
      ]
    },
    {
      "cell_type": "code",
      "execution_count": 12,
      "metadata": {
        "id": "ACMzrXjpQMXk"
      },
      "outputs": [],
      "source": [
        "x_train = train_features/255.0\n",
        "x_test = test_features/255.0"
      ]
    },
    {
      "cell_type": "code",
      "execution_count": 13,
      "metadata": {
        "id": "41hfUodRQVu5"
      },
      "outputs": [],
      "source": [
        "from sklearn.preprocessing import LabelEncoder"
      ]
    },
    {
      "cell_type": "code",
      "execution_count": 14,
      "metadata": {
        "colab": {
          "base_uri": "https://localhost:8080/",
          "height": 74
        },
        "id": "C7sdPOpIQYYV",
        "outputId": "dce857b9-cc4d-44a7-de98-12df681cb8a1"
      },
      "outputs": [
        {
          "output_type": "execute_result",
          "data": {
            "text/plain": [
              "LabelEncoder()"
            ],
            "text/html": [
              "<style>#sk-container-id-1 {color: black;background-color: white;}#sk-container-id-1 pre{padding: 0;}#sk-container-id-1 div.sk-toggleable {background-color: white;}#sk-container-id-1 label.sk-toggleable__label {cursor: pointer;display: block;width: 100%;margin-bottom: 0;padding: 0.3em;box-sizing: border-box;text-align: center;}#sk-container-id-1 label.sk-toggleable__label-arrow:before {content: \"▸\";float: left;margin-right: 0.25em;color: #696969;}#sk-container-id-1 label.sk-toggleable__label-arrow:hover:before {color: black;}#sk-container-id-1 div.sk-estimator:hover label.sk-toggleable__label-arrow:before {color: black;}#sk-container-id-1 div.sk-toggleable__content {max-height: 0;max-width: 0;overflow: hidden;text-align: left;background-color: #f0f8ff;}#sk-container-id-1 div.sk-toggleable__content pre {margin: 0.2em;color: black;border-radius: 0.25em;background-color: #f0f8ff;}#sk-container-id-1 input.sk-toggleable__control:checked~div.sk-toggleable__content {max-height: 200px;max-width: 100%;overflow: auto;}#sk-container-id-1 input.sk-toggleable__control:checked~label.sk-toggleable__label-arrow:before {content: \"▾\";}#sk-container-id-1 div.sk-estimator input.sk-toggleable__control:checked~label.sk-toggleable__label {background-color: #d4ebff;}#sk-container-id-1 div.sk-label input.sk-toggleable__control:checked~label.sk-toggleable__label {background-color: #d4ebff;}#sk-container-id-1 input.sk-hidden--visually {border: 0;clip: rect(1px 1px 1px 1px);clip: rect(1px, 1px, 1px, 1px);height: 1px;margin: -1px;overflow: hidden;padding: 0;position: absolute;width: 1px;}#sk-container-id-1 div.sk-estimator {font-family: monospace;background-color: #f0f8ff;border: 1px dotted black;border-radius: 0.25em;box-sizing: border-box;margin-bottom: 0.5em;}#sk-container-id-1 div.sk-estimator:hover {background-color: #d4ebff;}#sk-container-id-1 div.sk-parallel-item::after {content: \"\";width: 100%;border-bottom: 1px solid gray;flex-grow: 1;}#sk-container-id-1 div.sk-label:hover label.sk-toggleable__label {background-color: #d4ebff;}#sk-container-id-1 div.sk-serial::before {content: \"\";position: absolute;border-left: 1px solid gray;box-sizing: border-box;top: 0;bottom: 0;left: 50%;z-index: 0;}#sk-container-id-1 div.sk-serial {display: flex;flex-direction: column;align-items: center;background-color: white;padding-right: 0.2em;padding-left: 0.2em;position: relative;}#sk-container-id-1 div.sk-item {position: relative;z-index: 1;}#sk-container-id-1 div.sk-parallel {display: flex;align-items: stretch;justify-content: center;background-color: white;position: relative;}#sk-container-id-1 div.sk-item::before, #sk-container-id-1 div.sk-parallel-item::before {content: \"\";position: absolute;border-left: 1px solid gray;box-sizing: border-box;top: 0;bottom: 0;left: 50%;z-index: -1;}#sk-container-id-1 div.sk-parallel-item {display: flex;flex-direction: column;z-index: 1;position: relative;background-color: white;}#sk-container-id-1 div.sk-parallel-item:first-child::after {align-self: flex-end;width: 50%;}#sk-container-id-1 div.sk-parallel-item:last-child::after {align-self: flex-start;width: 50%;}#sk-container-id-1 div.sk-parallel-item:only-child::after {width: 0;}#sk-container-id-1 div.sk-dashed-wrapped {border: 1px dashed gray;margin: 0 0.4em 0.5em 0.4em;box-sizing: border-box;padding-bottom: 0.4em;background-color: white;}#sk-container-id-1 div.sk-label label {font-family: monospace;font-weight: bold;display: inline-block;line-height: 1.2em;}#sk-container-id-1 div.sk-label-container {text-align: center;}#sk-container-id-1 div.sk-container {/* jupyter's `normalize.less` sets `[hidden] { display: none; }` but bootstrap.min.css set `[hidden] { display: none !important; }` so we also need the `!important` here to be able to override the default hidden behavior on the sphinx rendered scikit-learn.org. See: https://github.com/scikit-learn/scikit-learn/issues/21755 */display: inline-block !important;position: relative;}#sk-container-id-1 div.sk-text-repr-fallback {display: none;}</style><div id=\"sk-container-id-1\" class=\"sk-top-container\"><div class=\"sk-text-repr-fallback\"><pre>LabelEncoder()</pre><b>In a Jupyter environment, please rerun this cell to show the HTML representation or trust the notebook. <br />On GitHub, the HTML representation is unable to render, please try loading this page with nbviewer.org.</b></div><div class=\"sk-container\" hidden><div class=\"sk-item\"><div class=\"sk-estimator sk-toggleable\"><input class=\"sk-toggleable__control sk-hidden--visually\" id=\"sk-estimator-id-1\" type=\"checkbox\" checked><label for=\"sk-estimator-id-1\" class=\"sk-toggleable__label sk-toggleable__label-arrow\">LabelEncoder</label><div class=\"sk-toggleable__content\"><pre>LabelEncoder()</pre></div></div></div></div></div>"
            ]
          },
          "metadata": {},
          "execution_count": 14
        }
      ],
      "source": [
        "le = LabelEncoder()\n",
        "le.fit(train['label'])"
      ]
    },
    {
      "cell_type": "code",
      "execution_count": 15,
      "metadata": {
        "id": "eKYUe7NBQdjz"
      },
      "outputs": [],
      "source": [
        "y_train = le.transform(train['label'])\n",
        "y_test = le.transform(test['label'])"
      ]
    },
    {
      "cell_type": "code",
      "execution_count": 16,
      "metadata": {
        "id": "2F8iTqrmQlAq"
      },
      "outputs": [],
      "source": [
        "y_train = to_categorical(y_train,num_classes = 7)\n",
        "y_test = to_categorical(y_test,num_classes = 7)"
      ]
    },
    {
      "cell_type": "code",
      "execution_count": 17,
      "metadata": {
        "id": "ZXe1xO-mQpMj"
      },
      "outputs": [],
      "source": [
        "model = Sequential()\n",
        "# convolutional layers\n",
        "model.add(Conv2D(32, kernel_size=(3,3), activation='relu', input_shape=(48,48,1)))\n",
        "model.add(MaxPooling2D(pool_size=(2,2)))\n",
        "model.add(Dropout(0.4))\n",
        "\n",
        "model.add(Conv2D(64, kernel_size=(3,3), activation='relu'))\n",
        "model.add(MaxPooling2D(pool_size=(2,2)))\n",
        "model.add(Dropout(0.4))\n",
        "\n",
        "model.add(Conv2D(128, kernel_size=(3,3), activation='relu'))\n",
        "model.add(MaxPooling2D(pool_size=(2,2)))\n",
        "model.add(Dropout(0.4))\n",
        "\n",
        "model.add(Conv2D(256, kernel_size=(3,3), activation='relu'))\n",
        "model.add(MaxPooling2D(pool_size=(2,2)))\n",
        "model.add(Dropout(0.4))\n",
        "\n",
        "model.add(Flatten())\n",
        "# fully connected layers\n",
        "model.add(Dense(512, activation='relu'))\n",
        "model.add(Dropout(0.2))\n",
        "model.add(Dense(256, activation='relu'))\n",
        "model.add(Dropout(0.3))\n",
        "# output layer\n",
        "model.add(Dense(7, activation='softmax'))\n"
      ]
    },
    {
      "cell_type": "code",
      "execution_count": 18,
      "metadata": {
        "id": "6s_7g9UNDXza"
      },
      "outputs": [],
      "source": [
        "model.compile(optimizer = 'adam', loss = 'categorical_crossentropy', metrics = 'accuracy' )"
      ]
    },
    {
      "cell_type": "code",
      "execution_count": 19,
      "metadata": {
        "id": "weaTNqySEFb7"
      },
      "outputs": [],
      "source": [
        "from keras.optimizers import Adam"
      ]
    },
    {
      "cell_type": "code",
      "execution_count": 20,
      "metadata": {
        "id": "etOkA6CVDoY4"
      },
      "outputs": [],
      "source": [
        "opt = Adam(learning_rate=0.001)\n",
        "model.compile(optimizer=opt, loss='categorical_crossentropy', metrics=['accuracy'])"
      ]
    },
    {
      "cell_type": "code",
      "execution_count": 21,
      "metadata": {
        "colab": {
          "base_uri": "https://localhost:8080/"
        },
        "id": "O4GA8dsoEDB8",
        "outputId": "6be90616-3c1d-4fb3-c143-3afe86c5753d"
      },
      "outputs": [
        {
          "output_type": "stream",
          "name": "stdout",
          "text": [
            "Epoch 1/50\n",
            "23/23 [==============================] - 10s 63ms/step - loss: 1.9528 - accuracy: 0.1372 - val_loss: 1.9495 - val_accuracy: 0.0442\n",
            "Epoch 2/50\n",
            "23/23 [==============================] - 0s 19ms/step - loss: 1.9451 - accuracy: 0.1501 - val_loss: 1.9503 - val_accuracy: 0.0442\n",
            "Epoch 3/50\n",
            "23/23 [==============================] - 0s 19ms/step - loss: 1.9447 - accuracy: 0.1508 - val_loss: 1.9504 - val_accuracy: 0.0442\n",
            "Epoch 4/50\n",
            "23/23 [==============================] - 0s 21ms/step - loss: 1.9443 - accuracy: 0.1581 - val_loss: 1.9511 - val_accuracy: 0.0442\n",
            "Epoch 5/50\n",
            "23/23 [==============================] - 0s 21ms/step - loss: 1.9432 - accuracy: 0.1564 - val_loss: 1.9484 - val_accuracy: 0.1458\n",
            "Epoch 6/50\n",
            "23/23 [==============================] - 0s 21ms/step - loss: 1.9425 - accuracy: 0.1567 - val_loss: 1.9491 - val_accuracy: 0.1521\n",
            "Epoch 7/50\n",
            "23/23 [==============================] - 0s 21ms/step - loss: 1.9390 - accuracy: 0.1647 - val_loss: 1.9550 - val_accuracy: 0.1545\n",
            "Epoch 8/50\n",
            "23/23 [==============================] - 0s 21ms/step - loss: 1.9327 - accuracy: 0.1668 - val_loss: 1.9473 - val_accuracy: 0.1466\n",
            "Epoch 9/50\n",
            "23/23 [==============================] - 0s 21ms/step - loss: 1.9235 - accuracy: 0.1876 - val_loss: 1.9166 - val_accuracy: 0.2055\n",
            "Epoch 10/50\n",
            "23/23 [==============================] - 0s 16ms/step - loss: 1.9233 - accuracy: 0.1835 - val_loss: 1.9079 - val_accuracy: 0.1928\n",
            "Epoch 11/50\n",
            "23/23 [==============================] - 0s 16ms/step - loss: 1.9020 - accuracy: 0.1932 - val_loss: 1.8923 - val_accuracy: 0.2238\n",
            "Epoch 12/50\n",
            "23/23 [==============================] - 0s 19ms/step - loss: 1.8711 - accuracy: 0.2154 - val_loss: 1.8976 - val_accuracy: 0.2346\n",
            "Epoch 13/50\n",
            "23/23 [==============================] - 0s 16ms/step - loss: 1.8636 - accuracy: 0.2356 - val_loss: 1.8285 - val_accuracy: 0.2533\n",
            "Epoch 14/50\n",
            "23/23 [==============================] - 0s 16ms/step - loss: 1.8394 - accuracy: 0.2464 - val_loss: 1.8756 - val_accuracy: 0.2282\n",
            "Epoch 15/50\n",
            "23/23 [==============================] - 0s 16ms/step - loss: 1.8098 - accuracy: 0.2540 - val_loss: 1.7996 - val_accuracy: 0.2350\n",
            "Epoch 16/50\n",
            "23/23 [==============================] - 0s 16ms/step - loss: 1.7989 - accuracy: 0.2707 - val_loss: 1.7966 - val_accuracy: 0.2413\n",
            "Epoch 17/50\n",
            "23/23 [==============================] - 0s 16ms/step - loss: 1.7776 - accuracy: 0.2842 - val_loss: 1.7907 - val_accuracy: 0.2541\n",
            "Epoch 18/50\n",
            "23/23 [==============================] - 0s 16ms/step - loss: 1.7549 - accuracy: 0.2971 - val_loss: 1.7814 - val_accuracy: 0.2585\n",
            "Epoch 19/50\n",
            "23/23 [==============================] - 0s 16ms/step - loss: 1.7623 - accuracy: 0.2929 - val_loss: 1.7551 - val_accuracy: 0.2684\n",
            "Epoch 20/50\n",
            "23/23 [==============================] - 0s 19ms/step - loss: 1.7490 - accuracy: 0.3006 - val_loss: 1.7266 - val_accuracy: 0.2776\n",
            "Epoch 21/50\n",
            "23/23 [==============================] - 0s 16ms/step - loss: 1.7212 - accuracy: 0.3308 - val_loss: 1.7188 - val_accuracy: 0.2875\n",
            "Epoch 22/50\n",
            "23/23 [==============================] - 0s 16ms/step - loss: 1.6926 - accuracy: 0.3370 - val_loss: 1.7173 - val_accuracy: 0.2927\n",
            "Epoch 23/50\n",
            "23/23 [==============================] - 0s 16ms/step - loss: 1.6778 - accuracy: 0.3450 - val_loss: 1.6761 - val_accuracy: 0.3282\n",
            "Epoch 24/50\n",
            "23/23 [==============================] - 0s 16ms/step - loss: 1.6597 - accuracy: 0.3628 - val_loss: 1.6491 - val_accuracy: 0.3397\n",
            "Epoch 25/50\n",
            "23/23 [==============================] - 0s 16ms/step - loss: 1.6355 - accuracy: 0.3718 - val_loss: 1.6982 - val_accuracy: 0.3098\n",
            "Epoch 26/50\n",
            "23/23 [==============================] - 0s 19ms/step - loss: 1.6018 - accuracy: 0.3815 - val_loss: 1.7385 - val_accuracy: 0.2967\n",
            "Epoch 27/50\n",
            "23/23 [==============================] - 0s 16ms/step - loss: 1.5904 - accuracy: 0.3787 - val_loss: 1.6558 - val_accuracy: 0.3373\n",
            "Epoch 28/50\n",
            "23/23 [==============================] - 0s 19ms/step - loss: 1.5693 - accuracy: 0.4027 - val_loss: 1.6401 - val_accuracy: 0.3445\n",
            "Epoch 29/50\n",
            "23/23 [==============================] - 0s 19ms/step - loss: 1.5290 - accuracy: 0.4159 - val_loss: 1.6167 - val_accuracy: 0.3560\n",
            "Epoch 30/50\n",
            "23/23 [==============================] - 0s 19ms/step - loss: 1.5209 - accuracy: 0.4110 - val_loss: 1.5916 - val_accuracy: 0.3700\n",
            "Epoch 31/50\n",
            "23/23 [==============================] - 0s 19ms/step - loss: 1.5363 - accuracy: 0.4097 - val_loss: 1.5763 - val_accuracy: 0.3811\n",
            "Epoch 32/50\n",
            "23/23 [==============================] - 0s 16ms/step - loss: 1.4935 - accuracy: 0.4309 - val_loss: 1.6447 - val_accuracy: 0.3552\n",
            "Epoch 33/50\n",
            "23/23 [==============================] - 0s 16ms/step - loss: 1.4967 - accuracy: 0.4309 - val_loss: 1.6142 - val_accuracy: 0.3716\n",
            "Epoch 34/50\n",
            "23/23 [==============================] - 0s 16ms/step - loss: 1.4596 - accuracy: 0.4434 - val_loss: 1.5985 - val_accuracy: 0.3648\n",
            "Epoch 35/50\n",
            "23/23 [==============================] - 0s 21ms/step - loss: 1.4201 - accuracy: 0.4583 - val_loss: 1.5395 - val_accuracy: 0.4014\n",
            "Epoch 36/50\n",
            "23/23 [==============================] - 0s 19ms/step - loss: 1.4330 - accuracy: 0.4614 - val_loss: 1.6029 - val_accuracy: 0.3732\n",
            "Epoch 37/50\n",
            "23/23 [==============================] - 0s 21ms/step - loss: 1.3975 - accuracy: 0.4743 - val_loss: 1.5158 - val_accuracy: 0.4178\n",
            "Epoch 38/50\n",
            "23/23 [==============================] - 0s 19ms/step - loss: 1.4079 - accuracy: 0.4736 - val_loss: 1.5862 - val_accuracy: 0.3795\n",
            "Epoch 39/50\n",
            "23/23 [==============================] - 0s 18ms/step - loss: 1.3861 - accuracy: 0.4823 - val_loss: 1.5506 - val_accuracy: 0.3986\n",
            "Epoch 40/50\n",
            "23/23 [==============================] - 0s 19ms/step - loss: 1.3446 - accuracy: 0.5010 - val_loss: 1.6175 - val_accuracy: 0.3799\n",
            "Epoch 41/50\n",
            "23/23 [==============================] - 0s 18ms/step - loss: 1.3539 - accuracy: 0.4934 - val_loss: 1.5885 - val_accuracy: 0.3855\n",
            "Epoch 42/50\n",
            "23/23 [==============================] - 0s 21ms/step - loss: 1.3193 - accuracy: 0.5094 - val_loss: 1.5147 - val_accuracy: 0.4146\n",
            "Epoch 43/50\n",
            "23/23 [==============================] - 0s 18ms/step - loss: 1.3036 - accuracy: 0.5066 - val_loss: 1.5837 - val_accuracy: 0.3791\n",
            "Epoch 44/50\n",
            "23/23 [==============================] - 0s 21ms/step - loss: 1.3056 - accuracy: 0.5076 - val_loss: 1.5248 - val_accuracy: 0.4118\n",
            "Epoch 45/50\n",
            "23/23 [==============================] - 0s 19ms/step - loss: 1.2935 - accuracy: 0.5160 - val_loss: 1.5414 - val_accuracy: 0.4066\n",
            "Epoch 46/50\n",
            "23/23 [==============================] - 0s 19ms/step - loss: 1.2526 - accuracy: 0.5327 - val_loss: 1.5231 - val_accuracy: 0.4198\n",
            "Epoch 47/50\n",
            "23/23 [==============================] - 0s 19ms/step - loss: 1.2806 - accuracy: 0.5233 - val_loss: 1.5640 - val_accuracy: 0.4014\n",
            "Epoch 48/50\n",
            "23/23 [==============================] - 0s 16ms/step - loss: 1.2720 - accuracy: 0.5212 - val_loss: 1.5537 - val_accuracy: 0.4090\n",
            "Epoch 49/50\n",
            "23/23 [==============================] - 0s 19ms/step - loss: 1.2135 - accuracy: 0.5539 - val_loss: 1.5644 - val_accuracy: 0.3931\n",
            "Epoch 50/50\n",
            "23/23 [==============================] - 0s 16ms/step - loss: 1.2048 - accuracy: 0.5657 - val_loss: 1.5857 - val_accuracy: 0.4022\n"
          ]
        },
        {
          "output_type": "execute_result",
          "data": {
            "text/plain": [
              "<keras.src.callbacks.History at 0x7bcd1c2d1e40>"
            ]
          },
          "metadata": {},
          "execution_count": 21
        }
      ],
      "source": [
        "model.fit(x= x_train,y = y_train, batch_size = 128, epochs = 50, validation_data = (x_test,y_test))"
      ]
    },
    {
      "cell_type": "code",
      "execution_count": 22,
      "metadata": {
        "id": "xUwnVDeDEOST",
        "colab": {
          "base_uri": "https://localhost:8080/"
        },
        "outputId": "a56522d7-9438-457b-83e6-53f2afaa2ce9"
      },
      "outputs": [
        {
          "output_type": "stream",
          "name": "stderr",
          "text": [
            "/usr/local/lib/python3.10/dist-packages/keras/src/engine/training.py:3103: UserWarning: You are saving your model as an HDF5 file via `model.save()`. This file format is considered legacy. We recommend using instead the native Keras format, e.g. `model.save('my_model.keras')`.\n",
            "  saving_api.save_model(\n"
          ]
        }
      ],
      "source": [
        "model_json = model.to_json()\n",
        "with open(\"emotiondetector.json\",'w') as json_file:\n",
        "    json_file.write(model_json)\n",
        "model.save(\"emotiondetector.h5\")"
      ]
    },
    {
      "cell_type": "code",
      "source": [
        "from keras.models import model_from_json"
      ],
      "metadata": {
        "id": "fgULimEbyW65"
      },
      "execution_count": 23,
      "outputs": []
    },
    {
      "cell_type": "code",
      "source": [
        "json_file = open(\"/content/drive/MyDrive/EMotion detection/facialemotionmodel.json\", \"r\")\n",
        "model_json = json_file.read()\n",
        "json_file.close()\n",
        "model = model_from_json(model_json)\n",
        "model.load_weights(\"/content/drive/MyDrive/EMotion detection/facialemotionmodel.h5\")"
      ],
      "metadata": {
        "id": "kdGrKej_yaws"
      },
      "execution_count": 26,
      "outputs": []
    },
    {
      "cell_type": "code",
      "source": [
        "label = ['angry','disgust','fear','happy','neutral','sad','surprise']"
      ],
      "metadata": {
        "id": "Sm26ilqkydtl"
      },
      "execution_count": 27,
      "outputs": []
    },
    {
      "cell_type": "code",
      "source": [
        "def ef(image):\n",
        "    img = load_img(image,grayscale =  True )\n",
        "    feature = np.array(img)\n",
        "    feature = feature.reshape(1,48,48,1)\n",
        "    return feature/255.0"
      ],
      "metadata": {
        "id": "XVasenmhzB9i"
      },
      "execution_count": 28,
      "outputs": []
    },
    {
      "cell_type": "code",
      "source": [],
      "metadata": {
        "id": "_HSDehxhzHiC"
      },
      "execution_count": null,
      "outputs": []
    }
  ],
  "metadata": {
    "accelerator": "GPU",
    "colab": {
      "provenance": []
    },
    "kernelspec": {
      "display_name": "Python 3",
      "name": "python3"
    },
    "language_info": {
      "name": "python"
    },
    "widgets": {
      "application/vnd.jupyter.widget-state+json": {
        "ec3fa1f1ced341529d541eab89593710": {
          "model_module": "@jupyter-widgets/controls",
          "model_name": "HBoxModel",
          "model_module_version": "1.5.0",
          "state": {
            "_dom_classes": [],
            "_model_module": "@jupyter-widgets/controls",
            "_model_module_version": "1.5.0",
            "_model_name": "HBoxModel",
            "_view_count": null,
            "_view_module": "@jupyter-widgets/controls",
            "_view_module_version": "1.5.0",
            "_view_name": "HBoxView",
            "box_style": "",
            "children": [
              "IPY_MODEL_fd9d31d203af4903bece534dc5be0d78",
              "IPY_MODEL_a93a6a5e899a41e59e5b7828a7dc5976",
              "IPY_MODEL_63da2ca2302046ad8b94d6b6bf38789e"
            ],
            "layout": "IPY_MODEL_69c4ae3a06bf45659cf2e13ef5b02046"
          }
        },
        "fd9d31d203af4903bece534dc5be0d78": {
          "model_module": "@jupyter-widgets/controls",
          "model_name": "HTMLModel",
          "model_module_version": "1.5.0",
          "state": {
            "_dom_classes": [],
            "_model_module": "@jupyter-widgets/controls",
            "_model_module_version": "1.5.0",
            "_model_name": "HTMLModel",
            "_view_count": null,
            "_view_module": "@jupyter-widgets/controls",
            "_view_module_version": "1.5.0",
            "_view_name": "HTMLView",
            "description": "",
            "description_tooltip": null,
            "layout": "IPY_MODEL_2452e3b8658f40a48a8a7da89f8b6746",
            "placeholder": "​",
            "style": "IPY_MODEL_1c54aa0cd8f042ce8acaa2d722fe067d",
            "value": "100%"
          }
        },
        "a93a6a5e899a41e59e5b7828a7dc5976": {
          "model_module": "@jupyter-widgets/controls",
          "model_name": "FloatProgressModel",
          "model_module_version": "1.5.0",
          "state": {
            "_dom_classes": [],
            "_model_module": "@jupyter-widgets/controls",
            "_model_module_version": "1.5.0",
            "_model_name": "FloatProgressModel",
            "_view_count": null,
            "_view_module": "@jupyter-widgets/controls",
            "_view_module_version": "1.5.0",
            "_view_name": "ProgressView",
            "bar_style": "success",
            "description": "",
            "description_tooltip": null,
            "layout": "IPY_MODEL_7374460d01994ac68e0f3e64ee819c88",
            "max": 2878,
            "min": 0,
            "orientation": "horizontal",
            "style": "IPY_MODEL_405ce5140d354205b26e583e91993238",
            "value": 2878
          }
        },
        "63da2ca2302046ad8b94d6b6bf38789e": {
          "model_module": "@jupyter-widgets/controls",
          "model_name": "HTMLModel",
          "model_module_version": "1.5.0",
          "state": {
            "_dom_classes": [],
            "_model_module": "@jupyter-widgets/controls",
            "_model_module_version": "1.5.0",
            "_model_name": "HTMLModel",
            "_view_count": null,
            "_view_module": "@jupyter-widgets/controls",
            "_view_module_version": "1.5.0",
            "_view_name": "HTMLView",
            "description": "",
            "description_tooltip": null,
            "layout": "IPY_MODEL_88d5da173a724bc2a30587f77c401729",
            "placeholder": "​",
            "style": "IPY_MODEL_2cc9f36765574b9b864b0039ab148e7f",
            "value": " 2878/2878 [07:17&lt;00:00,  6.47it/s]"
          }
        },
        "69c4ae3a06bf45659cf2e13ef5b02046": {
          "model_module": "@jupyter-widgets/base",
          "model_name": "LayoutModel",
          "model_module_version": "1.2.0",
          "state": {
            "_model_module": "@jupyter-widgets/base",
            "_model_module_version": "1.2.0",
            "_model_name": "LayoutModel",
            "_view_count": null,
            "_view_module": "@jupyter-widgets/base",
            "_view_module_version": "1.2.0",
            "_view_name": "LayoutView",
            "align_content": null,
            "align_items": null,
            "align_self": null,
            "border": null,
            "bottom": null,
            "display": null,
            "flex": null,
            "flex_flow": null,
            "grid_area": null,
            "grid_auto_columns": null,
            "grid_auto_flow": null,
            "grid_auto_rows": null,
            "grid_column": null,
            "grid_gap": null,
            "grid_row": null,
            "grid_template_areas": null,
            "grid_template_columns": null,
            "grid_template_rows": null,
            "height": null,
            "justify_content": null,
            "justify_items": null,
            "left": null,
            "margin": null,
            "max_height": null,
            "max_width": null,
            "min_height": null,
            "min_width": null,
            "object_fit": null,
            "object_position": null,
            "order": null,
            "overflow": null,
            "overflow_x": null,
            "overflow_y": null,
            "padding": null,
            "right": null,
            "top": null,
            "visibility": null,
            "width": null
          }
        },
        "2452e3b8658f40a48a8a7da89f8b6746": {
          "model_module": "@jupyter-widgets/base",
          "model_name": "LayoutModel",
          "model_module_version": "1.2.0",
          "state": {
            "_model_module": "@jupyter-widgets/base",
            "_model_module_version": "1.2.0",
            "_model_name": "LayoutModel",
            "_view_count": null,
            "_view_module": "@jupyter-widgets/base",
            "_view_module_version": "1.2.0",
            "_view_name": "LayoutView",
            "align_content": null,
            "align_items": null,
            "align_self": null,
            "border": null,
            "bottom": null,
            "display": null,
            "flex": null,
            "flex_flow": null,
            "grid_area": null,
            "grid_auto_columns": null,
            "grid_auto_flow": null,
            "grid_auto_rows": null,
            "grid_column": null,
            "grid_gap": null,
            "grid_row": null,
            "grid_template_areas": null,
            "grid_template_columns": null,
            "grid_template_rows": null,
            "height": null,
            "justify_content": null,
            "justify_items": null,
            "left": null,
            "margin": null,
            "max_height": null,
            "max_width": null,
            "min_height": null,
            "min_width": null,
            "object_fit": null,
            "object_position": null,
            "order": null,
            "overflow": null,
            "overflow_x": null,
            "overflow_y": null,
            "padding": null,
            "right": null,
            "top": null,
            "visibility": null,
            "width": null
          }
        },
        "1c54aa0cd8f042ce8acaa2d722fe067d": {
          "model_module": "@jupyter-widgets/controls",
          "model_name": "DescriptionStyleModel",
          "model_module_version": "1.5.0",
          "state": {
            "_model_module": "@jupyter-widgets/controls",
            "_model_module_version": "1.5.0",
            "_model_name": "DescriptionStyleModel",
            "_view_count": null,
            "_view_module": "@jupyter-widgets/base",
            "_view_module_version": "1.2.0",
            "_view_name": "StyleView",
            "description_width": ""
          }
        },
        "7374460d01994ac68e0f3e64ee819c88": {
          "model_module": "@jupyter-widgets/base",
          "model_name": "LayoutModel",
          "model_module_version": "1.2.0",
          "state": {
            "_model_module": "@jupyter-widgets/base",
            "_model_module_version": "1.2.0",
            "_model_name": "LayoutModel",
            "_view_count": null,
            "_view_module": "@jupyter-widgets/base",
            "_view_module_version": "1.2.0",
            "_view_name": "LayoutView",
            "align_content": null,
            "align_items": null,
            "align_self": null,
            "border": null,
            "bottom": null,
            "display": null,
            "flex": null,
            "flex_flow": null,
            "grid_area": null,
            "grid_auto_columns": null,
            "grid_auto_flow": null,
            "grid_auto_rows": null,
            "grid_column": null,
            "grid_gap": null,
            "grid_row": null,
            "grid_template_areas": null,
            "grid_template_columns": null,
            "grid_template_rows": null,
            "height": null,
            "justify_content": null,
            "justify_items": null,
            "left": null,
            "margin": null,
            "max_height": null,
            "max_width": null,
            "min_height": null,
            "min_width": null,
            "object_fit": null,
            "object_position": null,
            "order": null,
            "overflow": null,
            "overflow_x": null,
            "overflow_y": null,
            "padding": null,
            "right": null,
            "top": null,
            "visibility": null,
            "width": null
          }
        },
        "405ce5140d354205b26e583e91993238": {
          "model_module": "@jupyter-widgets/controls",
          "model_name": "ProgressStyleModel",
          "model_module_version": "1.5.0",
          "state": {
            "_model_module": "@jupyter-widgets/controls",
            "_model_module_version": "1.5.0",
            "_model_name": "ProgressStyleModel",
            "_view_count": null,
            "_view_module": "@jupyter-widgets/base",
            "_view_module_version": "1.2.0",
            "_view_name": "StyleView",
            "bar_color": null,
            "description_width": ""
          }
        },
        "88d5da173a724bc2a30587f77c401729": {
          "model_module": "@jupyter-widgets/base",
          "model_name": "LayoutModel",
          "model_module_version": "1.2.0",
          "state": {
            "_model_module": "@jupyter-widgets/base",
            "_model_module_version": "1.2.0",
            "_model_name": "LayoutModel",
            "_view_count": null,
            "_view_module": "@jupyter-widgets/base",
            "_view_module_version": "1.2.0",
            "_view_name": "LayoutView",
            "align_content": null,
            "align_items": null,
            "align_self": null,
            "border": null,
            "bottom": null,
            "display": null,
            "flex": null,
            "flex_flow": null,
            "grid_area": null,
            "grid_auto_columns": null,
            "grid_auto_flow": null,
            "grid_auto_rows": null,
            "grid_column": null,
            "grid_gap": null,
            "grid_row": null,
            "grid_template_areas": null,
            "grid_template_columns": null,
            "grid_template_rows": null,
            "height": null,
            "justify_content": null,
            "justify_items": null,
            "left": null,
            "margin": null,
            "max_height": null,
            "max_width": null,
            "min_height": null,
            "min_width": null,
            "object_fit": null,
            "object_position": null,
            "order": null,
            "overflow": null,
            "overflow_x": null,
            "overflow_y": null,
            "padding": null,
            "right": null,
            "top": null,
            "visibility": null,
            "width": null
          }
        },
        "2cc9f36765574b9b864b0039ab148e7f": {
          "model_module": "@jupyter-widgets/controls",
          "model_name": "DescriptionStyleModel",
          "model_module_version": "1.5.0",
          "state": {
            "_model_module": "@jupyter-widgets/controls",
            "_model_module_version": "1.5.0",
            "_model_name": "DescriptionStyleModel",
            "_view_count": null,
            "_view_module": "@jupyter-widgets/base",
            "_view_module_version": "1.2.0",
            "_view_name": "StyleView",
            "description_width": ""
          }
        },
        "c993d49759894c9e9332499f5a275152": {
          "model_module": "@jupyter-widgets/controls",
          "model_name": "HBoxModel",
          "model_module_version": "1.5.0",
          "state": {
            "_dom_classes": [],
            "_model_module": "@jupyter-widgets/controls",
            "_model_module_version": "1.5.0",
            "_model_name": "HBoxModel",
            "_view_count": null,
            "_view_module": "@jupyter-widgets/controls",
            "_view_module_version": "1.5.0",
            "_view_name": "HBoxView",
            "box_style": "",
            "children": [
              "IPY_MODEL_97e264bbaa564741a0e1897df25beadc",
              "IPY_MODEL_3d6c0a5376924e7c90be4dfc4de35a9c",
              "IPY_MODEL_ead5bdeea0c940b9bdfe1c581029380d"
            ],
            "layout": "IPY_MODEL_ead59598d4e145799ae95082f7975d54"
          }
        },
        "97e264bbaa564741a0e1897df25beadc": {
          "model_module": "@jupyter-widgets/controls",
          "model_name": "HTMLModel",
          "model_module_version": "1.5.0",
          "state": {
            "_dom_classes": [],
            "_model_module": "@jupyter-widgets/controls",
            "_model_module_version": "1.5.0",
            "_model_name": "HTMLModel",
            "_view_count": null,
            "_view_module": "@jupyter-widgets/controls",
            "_view_module_version": "1.5.0",
            "_view_name": "HTMLView",
            "description": "",
            "description_tooltip": null,
            "layout": "IPY_MODEL_b10bf8511b9d42858bbd4ca738fc8453",
            "placeholder": "​",
            "style": "IPY_MODEL_e63c67b65d9a46eb9bbc69c9501b5755",
            "value": "100%"
          }
        },
        "3d6c0a5376924e7c90be4dfc4de35a9c": {
          "model_module": "@jupyter-widgets/controls",
          "model_name": "FloatProgressModel",
          "model_module_version": "1.5.0",
          "state": {
            "_dom_classes": [],
            "_model_module": "@jupyter-widgets/controls",
            "_model_module_version": "1.5.0",
            "_model_name": "FloatProgressModel",
            "_view_count": null,
            "_view_module": "@jupyter-widgets/controls",
            "_view_module_version": "1.5.0",
            "_view_name": "ProgressView",
            "bar_style": "success",
            "description": "",
            "description_tooltip": null,
            "layout": "IPY_MODEL_36a6f22bcbd24946bccf026fd27d9c67",
            "max": 2511,
            "min": 0,
            "orientation": "horizontal",
            "style": "IPY_MODEL_5d9597ade8d244e7ac659daa70897415",
            "value": 2511
          }
        },
        "ead5bdeea0c940b9bdfe1c581029380d": {
          "model_module": "@jupyter-widgets/controls",
          "model_name": "HTMLModel",
          "model_module_version": "1.5.0",
          "state": {
            "_dom_classes": [],
            "_model_module": "@jupyter-widgets/controls",
            "_model_module_version": "1.5.0",
            "_model_name": "HTMLModel",
            "_view_count": null,
            "_view_module": "@jupyter-widgets/controls",
            "_view_module_version": "1.5.0",
            "_view_name": "HTMLView",
            "description": "",
            "description_tooltip": null,
            "layout": "IPY_MODEL_08379cbfeda04362b858444a9afa4f72",
            "placeholder": "​",
            "style": "IPY_MODEL_0f1771629385420f9064fb9f501b87b5",
            "value": " 2511/2511 [07:01&lt;00:00,  5.74it/s]"
          }
        },
        "ead59598d4e145799ae95082f7975d54": {
          "model_module": "@jupyter-widgets/base",
          "model_name": "LayoutModel",
          "model_module_version": "1.2.0",
          "state": {
            "_model_module": "@jupyter-widgets/base",
            "_model_module_version": "1.2.0",
            "_model_name": "LayoutModel",
            "_view_count": null,
            "_view_module": "@jupyter-widgets/base",
            "_view_module_version": "1.2.0",
            "_view_name": "LayoutView",
            "align_content": null,
            "align_items": null,
            "align_self": null,
            "border": null,
            "bottom": null,
            "display": null,
            "flex": null,
            "flex_flow": null,
            "grid_area": null,
            "grid_auto_columns": null,
            "grid_auto_flow": null,
            "grid_auto_rows": null,
            "grid_column": null,
            "grid_gap": null,
            "grid_row": null,
            "grid_template_areas": null,
            "grid_template_columns": null,
            "grid_template_rows": null,
            "height": null,
            "justify_content": null,
            "justify_items": null,
            "left": null,
            "margin": null,
            "max_height": null,
            "max_width": null,
            "min_height": null,
            "min_width": null,
            "object_fit": null,
            "object_position": null,
            "order": null,
            "overflow": null,
            "overflow_x": null,
            "overflow_y": null,
            "padding": null,
            "right": null,
            "top": null,
            "visibility": null,
            "width": null
          }
        },
        "b10bf8511b9d42858bbd4ca738fc8453": {
          "model_module": "@jupyter-widgets/base",
          "model_name": "LayoutModel",
          "model_module_version": "1.2.0",
          "state": {
            "_model_module": "@jupyter-widgets/base",
            "_model_module_version": "1.2.0",
            "_model_name": "LayoutModel",
            "_view_count": null,
            "_view_module": "@jupyter-widgets/base",
            "_view_module_version": "1.2.0",
            "_view_name": "LayoutView",
            "align_content": null,
            "align_items": null,
            "align_self": null,
            "border": null,
            "bottom": null,
            "display": null,
            "flex": null,
            "flex_flow": null,
            "grid_area": null,
            "grid_auto_columns": null,
            "grid_auto_flow": null,
            "grid_auto_rows": null,
            "grid_column": null,
            "grid_gap": null,
            "grid_row": null,
            "grid_template_areas": null,
            "grid_template_columns": null,
            "grid_template_rows": null,
            "height": null,
            "justify_content": null,
            "justify_items": null,
            "left": null,
            "margin": null,
            "max_height": null,
            "max_width": null,
            "min_height": null,
            "min_width": null,
            "object_fit": null,
            "object_position": null,
            "order": null,
            "overflow": null,
            "overflow_x": null,
            "overflow_y": null,
            "padding": null,
            "right": null,
            "top": null,
            "visibility": null,
            "width": null
          }
        },
        "e63c67b65d9a46eb9bbc69c9501b5755": {
          "model_module": "@jupyter-widgets/controls",
          "model_name": "DescriptionStyleModel",
          "model_module_version": "1.5.0",
          "state": {
            "_model_module": "@jupyter-widgets/controls",
            "_model_module_version": "1.5.0",
            "_model_name": "DescriptionStyleModel",
            "_view_count": null,
            "_view_module": "@jupyter-widgets/base",
            "_view_module_version": "1.2.0",
            "_view_name": "StyleView",
            "description_width": ""
          }
        },
        "36a6f22bcbd24946bccf026fd27d9c67": {
          "model_module": "@jupyter-widgets/base",
          "model_name": "LayoutModel",
          "model_module_version": "1.2.0",
          "state": {
            "_model_module": "@jupyter-widgets/base",
            "_model_module_version": "1.2.0",
            "_model_name": "LayoutModel",
            "_view_count": null,
            "_view_module": "@jupyter-widgets/base",
            "_view_module_version": "1.2.0",
            "_view_name": "LayoutView",
            "align_content": null,
            "align_items": null,
            "align_self": null,
            "border": null,
            "bottom": null,
            "display": null,
            "flex": null,
            "flex_flow": null,
            "grid_area": null,
            "grid_auto_columns": null,
            "grid_auto_flow": null,
            "grid_auto_rows": null,
            "grid_column": null,
            "grid_gap": null,
            "grid_row": null,
            "grid_template_areas": null,
            "grid_template_columns": null,
            "grid_template_rows": null,
            "height": null,
            "justify_content": null,
            "justify_items": null,
            "left": null,
            "margin": null,
            "max_height": null,
            "max_width": null,
            "min_height": null,
            "min_width": null,
            "object_fit": null,
            "object_position": null,
            "order": null,
            "overflow": null,
            "overflow_x": null,
            "overflow_y": null,
            "padding": null,
            "right": null,
            "top": null,
            "visibility": null,
            "width": null
          }
        },
        "5d9597ade8d244e7ac659daa70897415": {
          "model_module": "@jupyter-widgets/controls",
          "model_name": "ProgressStyleModel",
          "model_module_version": "1.5.0",
          "state": {
            "_model_module": "@jupyter-widgets/controls",
            "_model_module_version": "1.5.0",
            "_model_name": "ProgressStyleModel",
            "_view_count": null,
            "_view_module": "@jupyter-widgets/base",
            "_view_module_version": "1.2.0",
            "_view_name": "StyleView",
            "bar_color": null,
            "description_width": ""
          }
        },
        "08379cbfeda04362b858444a9afa4f72": {
          "model_module": "@jupyter-widgets/base",
          "model_name": "LayoutModel",
          "model_module_version": "1.2.0",
          "state": {
            "_model_module": "@jupyter-widgets/base",
            "_model_module_version": "1.2.0",
            "_model_name": "LayoutModel",
            "_view_count": null,
            "_view_module": "@jupyter-widgets/base",
            "_view_module_version": "1.2.0",
            "_view_name": "LayoutView",
            "align_content": null,
            "align_items": null,
            "align_self": null,
            "border": null,
            "bottom": null,
            "display": null,
            "flex": null,
            "flex_flow": null,
            "grid_area": null,
            "grid_auto_columns": null,
            "grid_auto_flow": null,
            "grid_auto_rows": null,
            "grid_column": null,
            "grid_gap": null,
            "grid_row": null,
            "grid_template_areas": null,
            "grid_template_columns": null,
            "grid_template_rows": null,
            "height": null,
            "justify_content": null,
            "justify_items": null,
            "left": null,
            "margin": null,
            "max_height": null,
            "max_width": null,
            "min_height": null,
            "min_width": null,
            "object_fit": null,
            "object_position": null,
            "order": null,
            "overflow": null,
            "overflow_x": null,
            "overflow_y": null,
            "padding": null,
            "right": null,
            "top": null,
            "visibility": null,
            "width": null
          }
        },
        "0f1771629385420f9064fb9f501b87b5": {
          "model_module": "@jupyter-widgets/controls",
          "model_name": "DescriptionStyleModel",
          "model_module_version": "1.5.0",
          "state": {
            "_model_module": "@jupyter-widgets/controls",
            "_model_module_version": "1.5.0",
            "_model_name": "DescriptionStyleModel",
            "_view_count": null,
            "_view_module": "@jupyter-widgets/base",
            "_view_module_version": "1.2.0",
            "_view_name": "StyleView",
            "description_width": ""
          }
        }
      }
    }
  },
  "nbformat": 4,
  "nbformat_minor": 0
}